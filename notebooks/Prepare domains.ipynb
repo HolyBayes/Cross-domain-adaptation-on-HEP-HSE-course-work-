{
 "cells": [
  {
   "cell_type": "code",
   "execution_count": 1,
   "metadata": {
    "collapsed": true
   },
   "outputs": [],
   "source": [
    "import pandas as pd\n",
    "import matplotlib.pyplot as plt\n",
    "\n",
    "%matplotlib inline"
   ]
  },
  {
   "cell_type": "markdown",
   "metadata": {},
   "source": [
    "# Description\n",
    "Notebook contains preparation of signal and background for two domains: Source (Monte-Carlo) and Target (Real). The events for $$Ds\\rightarrow\\phi\\pi$$ channel will be taken for this (see [check_agreement.csv](https://www.kaggle.com/c/flavours-of-physics/data))\n",
    "1. Simulated signal - \"signal=1\" from agreement test\n",
    "2. Real signal - \"signal=0 and weight >> 0\" from agreement test\n",
    "3. Real background - \"signal=0 and weight << 0\" from agreement test\n",
    "4. Simulated background - \"signal=1\" from $\\tau\\rightarrow\\mu\\mu\\mu$-channel (see [training.csv](https://www.kaggle.com/c/flavours-of-physics/data))"
   ]
  },
  {
   "cell_type": "code",
   "execution_count": 3,
   "metadata": {
    "collapsed": false
   },
   "outputs": [
    {
     "name": "stdout",
     "output_type": "stream",
     "text": [
      "(331147, 49)\n"
     ]
    },
    {
     "data": {
      "text/html": [
       "<div>\n",
       "<table border=\"1\" class=\"dataframe\">\n",
       "  <thead>\n",
       "    <tr style=\"text-align: right;\">\n",
       "      <th></th>\n",
       "      <th>id</th>\n",
       "      <th>LifeTime</th>\n",
       "      <th>dira</th>\n",
       "      <th>FlightDistance</th>\n",
       "      <th>FlightDistanceError</th>\n",
       "      <th>IP</th>\n",
       "      <th>IPSig</th>\n",
       "      <th>VertexChi2</th>\n",
       "      <th>pt</th>\n",
       "      <th>DOCAone</th>\n",
       "      <th>...</th>\n",
       "      <th>p2_pt</th>\n",
       "      <th>p0_p</th>\n",
       "      <th>p1_p</th>\n",
       "      <th>p2_p</th>\n",
       "      <th>p0_eta</th>\n",
       "      <th>p1_eta</th>\n",
       "      <th>p2_eta</th>\n",
       "      <th>SPDhits</th>\n",
       "      <th>signal</th>\n",
       "      <th>weight</th>\n",
       "    </tr>\n",
       "  </thead>\n",
       "  <tbody>\n",
       "    <tr>\n",
       "      <th>0</th>\n",
       "      <td>15347063</td>\n",
       "      <td>0.001451</td>\n",
       "      <td>0.999964</td>\n",
       "      <td>6.94503</td>\n",
       "      <td>0.229196</td>\n",
       "      <td>0.058117</td>\n",
       "      <td>2.961298</td>\n",
       "      <td>7.953543</td>\n",
       "      <td>2251.611816</td>\n",
       "      <td>0.082219</td>\n",
       "      <td>...</td>\n",
       "      <td>834.562378</td>\n",
       "      <td>10392.814453</td>\n",
       "      <td>6380.673828</td>\n",
       "      <td>15195.594727</td>\n",
       "      <td>2.666142</td>\n",
       "      <td>3.302978</td>\n",
       "      <td>3.594246</td>\n",
       "      <td>512</td>\n",
       "      <td>0</td>\n",
       "      <td>-0.307813</td>\n",
       "    </tr>\n",
       "  </tbody>\n",
       "</table>\n",
       "<p>1 rows × 49 columns</p>\n",
       "</div>"
      ],
      "text/plain": [
       "         id  LifeTime      dira  FlightDistance  FlightDistanceError  \\\n",
       "0  15347063  0.001451  0.999964         6.94503             0.229196   \n",
       "\n",
       "         IP     IPSig  VertexChi2           pt   DOCAone    ...     \\\n",
       "0  0.058117  2.961298    7.953543  2251.611816  0.082219    ...      \n",
       "\n",
       "        p2_pt          p0_p         p1_p          p2_p    p0_eta    p1_eta  \\\n",
       "0  834.562378  10392.814453  6380.673828  15195.594727  2.666142  3.302978   \n",
       "\n",
       "     p2_eta  SPDhits  signal    weight  \n",
       "0  3.594246      512       0 -0.307813  \n",
       "\n",
       "[1 rows x 49 columns]"
      ]
     },
     "execution_count": 3,
     "metadata": {},
     "output_type": "execute_result"
    }
   ],
   "source": [
    "agreement = pd.read_csv('datasets/check_agreement.csv.zip')\n",
    "print agreement.shape\n",
    "agreement.head(1)"
   ]
  },
  {
   "cell_type": "code",
   "execution_count": 4,
   "metadata": {
    "collapsed": false
   },
   "outputs": [
    {
     "name": "stdout",
     "output_type": "stream",
     "text": [
      "(67553, 51)\n"
     ]
    },
    {
     "data": {
      "text/html": [
       "<div>\n",
       "<table border=\"1\" class=\"dataframe\">\n",
       "  <thead>\n",
       "    <tr style=\"text-align: right;\">\n",
       "      <th></th>\n",
       "      <th>id</th>\n",
       "      <th>LifeTime</th>\n",
       "      <th>dira</th>\n",
       "      <th>FlightDistance</th>\n",
       "      <th>FlightDistanceError</th>\n",
       "      <th>IP</th>\n",
       "      <th>IPSig</th>\n",
       "      <th>VertexChi2</th>\n",
       "      <th>pt</th>\n",
       "      <th>DOCAone</th>\n",
       "      <th>...</th>\n",
       "      <th>p1_p</th>\n",
       "      <th>p2_p</th>\n",
       "      <th>p0_eta</th>\n",
       "      <th>p1_eta</th>\n",
       "      <th>p2_eta</th>\n",
       "      <th>SPDhits</th>\n",
       "      <th>production</th>\n",
       "      <th>signal</th>\n",
       "      <th>mass</th>\n",
       "      <th>min_ANNmuon</th>\n",
       "    </tr>\n",
       "  </thead>\n",
       "  <tbody>\n",
       "    <tr>\n",
       "      <th>0</th>\n",
       "      <td>18453471</td>\n",
       "      <td>0.001578</td>\n",
       "      <td>0.999999</td>\n",
       "      <td>14.033335</td>\n",
       "      <td>0.681401</td>\n",
       "      <td>0.016039</td>\n",
       "      <td>0.451886</td>\n",
       "      <td>1.900433</td>\n",
       "      <td>1482.037476</td>\n",
       "      <td>0.066667</td>\n",
       "      <td>...</td>\n",
       "      <td>12290.760742</td>\n",
       "      <td>39264.398438</td>\n",
       "      <td>3.076006</td>\n",
       "      <td>4.0038</td>\n",
       "      <td>4.031514</td>\n",
       "      <td>458</td>\n",
       "      <td>-99</td>\n",
       "      <td>0</td>\n",
       "      <td>1866.300049</td>\n",
       "      <td>0.277559</td>\n",
       "    </tr>\n",
       "  </tbody>\n",
       "</table>\n",
       "<p>1 rows × 51 columns</p>\n",
       "</div>"
      ],
      "text/plain": [
       "         id  LifeTime      dira  FlightDistance  FlightDistanceError  \\\n",
       "0  18453471  0.001578  0.999999       14.033335             0.681401   \n",
       "\n",
       "         IP     IPSig  VertexChi2           pt   DOCAone     ...       \\\n",
       "0  0.016039  0.451886    1.900433  1482.037476  0.066667     ...        \n",
       "\n",
       "           p1_p          p2_p    p0_eta  p1_eta    p2_eta  SPDhits  \\\n",
       "0  12290.760742  39264.398438  3.076006  4.0038  4.031514      458   \n",
       "\n",
       "   production  signal         mass  min_ANNmuon  \n",
       "0         -99       0  1866.300049     0.277559  \n",
       "\n",
       "[1 rows x 51 columns]"
      ]
     },
     "execution_count": 4,
     "metadata": {},
     "output_type": "execute_result"
    }
   ],
   "source": [
    "training = pd.read_csv('datasets/training.csv.zip')\n",
    "print training.shape\n",
    "training.head(1)"
   ]
  },
  {
   "cell_type": "code",
   "execution_count": 10,
   "metadata": {
    "collapsed": false
   },
   "outputs": [
    {
     "data": {
      "text/plain": [
       "48"
      ]
     },
     "execution_count": 10,
     "metadata": {},
     "output_type": "execute_result"
    }
   ],
   "source": [
    "features = list(set(training.columns) & set(agreement.columns))\n",
    "len(features)"
   ]
  },
  {
   "cell_type": "markdown",
   "metadata": {},
   "source": [
    "# 1. Simulated signal - \"signal=1\" from agreement test"
   ]
  },
  {
   "cell_type": "code",
   "execution_count": 32,
   "metadata": {
    "collapsed": false
   },
   "outputs": [
    {
     "name": "stdout",
     "output_type": "stream",
     "text": [
      "(8205, 49)\n"
     ]
    }
   ],
   "source": [
    "signal_mc = agreement.query('signal==1')[features]\n",
    "signal_mc['domain'] = 0\n",
    "print signal_mc.shape"
   ]
  },
  {
   "cell_type": "markdown",
   "metadata": {},
   "source": [
    "# 2. Real signal - \"signal=0 and weight >> 0\" from agreement test"
   ]
  },
  {
   "cell_type": "code",
   "execution_count": 18,
   "metadata": {
    "collapsed": false
   },
   "outputs": [
    {
     "data": {
      "image/png": "[encoded data removed]",
      "text/plain": [
       "<matplotlib.figure.Figure at 0x114c0b1d0>"
      ]
     },
     "metadata": {},
     "output_type": "display_data"
    }
   ],
   "source": [
    "plt.figure(figsize=(17, 10))\n",
    "plt.hist(agreement.query('signal==0').weight, bins=40, alpha=0.5)\n",
    "pass"
   ]
  },
  {
   "cell_type": "code",
   "execution_count": 33,
   "metadata": {
    "collapsed": false
   },
   "outputs": [
    {
     "name": "stdout",
     "output_type": "stream",
     "text": [
      "(24970, 49)\n"
     ]
    }
   ],
   "source": [
    "signal_real = agreement.query('signal == 0 and weight > 1.5')[features]\n",
    "signal_real['signal'] = 1\n",
    "signal_real['domain'] = 1\n",
    "print signal_real.shape"
   ]
  },
  {
   "cell_type": "markdown",
   "metadata": {},
   "source": [
    "# 3. Real background - \"signal=0 and weight << 0\" from agreement test"
   ]
  },
  {
   "cell_type": "code",
   "execution_count": 34,
   "metadata": {
    "collapsed": false
   },
   "outputs": [
    {
     "name": "stdout",
     "output_type": "stream",
     "text": [
      "(125589, 49)\n"
     ]
    }
   ],
   "source": [
    "bckg_real = agreement.query('signal == 0 and weight < -0.4')[features]\n",
    "bckg_real['domain'] = 1\n",
    "print bckg_real.shape"
   ]
  },
  {
   "cell_type": "markdown",
   "metadata": {},
   "source": [
    "# 4. Simulated background - \"signal=1\" from  τ→μμμ"
   ]
  },
  {
   "cell_type": "code",
   "execution_count": 35,
   "metadata": {
    "collapsed": false
   },
   "outputs": [
    {
     "name": "stdout",
     "output_type": "stream",
     "text": [
      "(41674, 49)\n"
     ]
    }
   ],
   "source": [
    "bckg_mc = training.query('signal == 1')[features]\n",
    "bckg_mc['signal'] = 0\n",
    "bckg_mc['domain'] = 0\n",
    "print bckg_mc.shape"
   ]
  },
  {
   "cell_type": "markdown",
   "metadata": {},
   "source": [
    "# 5. Final sample"
   ]
  },
  {
   "cell_type": "code",
   "execution_count": 30,
   "metadata": {
    "collapsed": false
   },
   "outputs": [
    {
     "name": "stdout",
     "output_type": "stream",
     "text": [
      "(200438, 49)\n"
     ]
    },
    {
     "data": {
      "text/html": [
       "<div>\n",
       "<table border=\"1\" class=\"dataframe\">\n",
       "  <thead>\n",
       "    <tr style=\"text-align: right;\">\n",
       "      <th></th>\n",
       "      <th>FlightDistanceError</th>\n",
       "      <th>IP</th>\n",
       "      <th>SPDhits</th>\n",
       "      <th>p2_IPSig</th>\n",
       "      <th>p0_IP</th>\n",
       "      <th>DOCAone</th>\n",
       "      <th>p0_IPSig</th>\n",
       "      <th>DOCAtwo</th>\n",
       "      <th>p0_eta</th>\n",
       "      <th>p0_track_Chi2Dof</th>\n",
       "      <th>...</th>\n",
       "      <th>VertexChi2</th>\n",
       "      <th>signal</th>\n",
       "      <th>p2_track_Chi2Dof</th>\n",
       "      <th>p1_IsoBDT</th>\n",
       "      <th>p2_eta</th>\n",
       "      <th>p1_eta</th>\n",
       "      <th>p2_IP</th>\n",
       "      <th>iso</th>\n",
       "      <th>p1_IPSig</th>\n",
       "      <th>domain</th>\n",
       "    </tr>\n",
       "  </thead>\n",
       "  <tbody>\n",
       "    <tr>\n",
       "      <th>15</th>\n",
       "      <td>0.678827</td>\n",
       "      <td>0.032425</td>\n",
       "      <td>76</td>\n",
       "      <td>9.226010</td>\n",
       "      <td>0.144528</td>\n",
       "      <td>0.044007</td>\n",
       "      <td>3.272880</td>\n",
       "      <td>0.047168</td>\n",
       "      <td>4.251790</td>\n",
       "      <td>0.931451</td>\n",
       "      <td>...</td>\n",
       "      <td>2.557416</td>\n",
       "      <td>1</td>\n",
       "      <td>0.572096</td>\n",
       "      <td>-0.218972</td>\n",
       "      <td>3.854100</td>\n",
       "      <td>3.452307</td>\n",
       "      <td>0.484351</td>\n",
       "      <td>0.0</td>\n",
       "      <td>16.814024</td>\n",
       "      <td>1</td>\n",
       "    </tr>\n",
       "    <tr>\n",
       "      <th>17</th>\n",
       "      <td>0.163634</td>\n",
       "      <td>0.045263</td>\n",
       "      <td>519</td>\n",
       "      <td>4.762966</td>\n",
       "      <td>0.089052</td>\n",
       "      <td>0.065127</td>\n",
       "      <td>3.071803</td>\n",
       "      <td>0.066712</td>\n",
       "      <td>2.455564</td>\n",
       "      <td>0.960383</td>\n",
       "      <td>...</td>\n",
       "      <td>14.301222</td>\n",
       "      <td>1</td>\n",
       "      <td>1.126602</td>\n",
       "      <td>-0.155172</td>\n",
       "      <td>3.199158</td>\n",
       "      <td>2.841748</td>\n",
       "      <td>0.151156</td>\n",
       "      <td>4.0</td>\n",
       "      <td>4.997229</td>\n",
       "      <td>1</td>\n",
       "    </tr>\n",
       "    <tr>\n",
       "      <th>43</th>\n",
       "      <td>0.185843</td>\n",
       "      <td>0.047824</td>\n",
       "      <td>392</td>\n",
       "      <td>16.074310</td>\n",
       "      <td>1.352370</td>\n",
       "      <td>0.030915</td>\n",
       "      <td>40.599300</td>\n",
       "      <td>0.004455</td>\n",
       "      <td>2.844135</td>\n",
       "      <td>0.954743</td>\n",
       "      <td>...</td>\n",
       "      <td>1.462178</td>\n",
       "      <td>1</td>\n",
       "      <td>1.021096</td>\n",
       "      <td>-0.425281</td>\n",
       "      <td>2.350151</td>\n",
       "      <td>2.604352</td>\n",
       "      <td>0.265362</td>\n",
       "      <td>0.0</td>\n",
       "      <td>25.920881</td>\n",
       "      <td>1</td>\n",
       "    </tr>\n",
       "    <tr>\n",
       "      <th>89</th>\n",
       "      <td>0.166625</td>\n",
       "      <td>0.038969</td>\n",
       "      <td>368</td>\n",
       "      <td>22.297640</td>\n",
       "      <td>0.539484</td>\n",
       "      <td>0.032754</td>\n",
       "      <td>35.473797</td>\n",
       "      <td>0.030980</td>\n",
       "      <td>2.361320</td>\n",
       "      <td>0.554871</td>\n",
       "      <td>...</td>\n",
       "      <td>4.318286</td>\n",
       "      <td>1</td>\n",
       "      <td>1.112612</td>\n",
       "      <td>-0.348910</td>\n",
       "      <td>3.218408</td>\n",
       "      <td>2.573816</td>\n",
       "      <td>0.560078</td>\n",
       "      <td>1.0</td>\n",
       "      <td>19.023470</td>\n",
       "      <td>1</td>\n",
       "    </tr>\n",
       "    <tr>\n",
       "      <th>100</th>\n",
       "      <td>0.261182</td>\n",
       "      <td>0.121370</td>\n",
       "      <td>666</td>\n",
       "      <td>22.619322</td>\n",
       "      <td>0.656749</td>\n",
       "      <td>0.004025</td>\n",
       "      <td>31.651461</td>\n",
       "      <td>0.028839</td>\n",
       "      <td>2.821793</td>\n",
       "      <td>1.149917</td>\n",
       "      <td>...</td>\n",
       "      <td>6.537395</td>\n",
       "      <td>1</td>\n",
       "      <td>1.901846</td>\n",
       "      <td>-0.115879</td>\n",
       "      <td>2.899785</td>\n",
       "      <td>2.969197</td>\n",
       "      <td>0.963611</td>\n",
       "      <td>3.0</td>\n",
       "      <td>15.196798</td>\n",
       "      <td>1</td>\n",
       "    </tr>\n",
       "  </tbody>\n",
       "</table>\n",
       "<p>5 rows × 49 columns</p>\n",
       "</div>"
      ],
      "text/plain": [
       "     FlightDistanceError        IP  SPDhits   p2_IPSig     p0_IP   DOCAone  \\\n",
       "15              0.678827  0.032425       76   9.226010  0.144528  0.044007   \n",
       "17              0.163634  0.045263      519   4.762966  0.089052  0.065127   \n",
       "43              0.185843  0.047824      392  16.074310  1.352370  0.030915   \n",
       "89              0.166625  0.038969      368  22.297640  0.539484  0.032754   \n",
       "100             0.261182  0.121370      666  22.619322  0.656749  0.004025   \n",
       "\n",
       "      p0_IPSig   DOCAtwo    p0_eta  p0_track_Chi2Dof   ...    VertexChi2  \\\n",
       "15    3.272880  0.047168  4.251790          0.931451   ...      2.557416   \n",
       "17    3.071803  0.066712  2.455564          0.960383   ...     14.301222   \n",
       "43   40.599300  0.004455  2.844135          0.954743   ...      1.462178   \n",
       "89   35.473797  0.030980  2.361320          0.554871   ...      4.318286   \n",
       "100  31.651461  0.028839  2.821793          1.149917   ...      6.537395   \n",
       "\n",
       "     signal  p2_track_Chi2Dof  p1_IsoBDT    p2_eta    p1_eta     p2_IP  iso  \\\n",
       "15        1          0.572096  -0.218972  3.854100  3.452307  0.484351  0.0   \n",
       "17        1          1.126602  -0.155172  3.199158  2.841748  0.151156  4.0   \n",
       "43        1          1.021096  -0.425281  2.350151  2.604352  0.265362  0.0   \n",
       "89        1          1.112612  -0.348910  3.218408  2.573816  0.560078  1.0   \n",
       "100       1          1.901846  -0.115879  2.899785  2.969197  0.963611  3.0   \n",
       "\n",
       "      p1_IPSig  domain  \n",
       "15   16.814024       1  \n",
       "17    4.997229       1  \n",
       "43   25.920881       1  \n",
       "89   19.023470       1  \n",
       "100  15.196798       1  \n",
       "\n",
       "[5 rows x 49 columns]"
      ]
     },
     "execution_count": 30,
     "metadata": {},
     "output_type": "execute_result"
    }
   ],
   "source": [
    "sample_final = pd.concat([signal_real, signal_mc, bckg_real, bckg_mc])\n",
    "print sample_final.shape\n",
    "sample_final.to_csv('datasets/domains.csv', index=None)\n",
    "sample_final.head()"
   ]
  },
  {
   "cell_type": "code",
   "execution_count": null,
   "metadata": {
    "collapsed": true
   },
   "outputs": [],
   "source": []
  }
 ],
 "metadata": {
  "anaconda-cloud": {},
  "kernelspec": {
   "display_name": "Python [default]",
   "language": "python",
   "name": "python2"
  },
  "language_info": {
   "codemirror_mode": {
    "name": "ipython",
    "version": 2
   },
   "file_extension": ".py",
   "mimetype": "text/x-python",
   "name": "python",
   "nbconvert_exporter": "python",
   "pygments_lexer": "ipython2",
   "version": "2.7.12"
  }
 },
 "nbformat": 4,
 "nbformat_minor": 1
}
